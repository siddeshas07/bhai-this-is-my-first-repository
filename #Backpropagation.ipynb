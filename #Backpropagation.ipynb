{
  "nbformat": 4,
  "nbformat_minor": 0,
  "metadata": {
    "colab": {
      "name": "Untitled4.ipynb",
      "provenance": [],
      "authorship_tag": "ABX9TyPCkuYkEH4mKQHL73u1sAhM",
      "include_colab_link": true
    },
    "kernelspec": {
      "name": "python3",
      "display_name": "Python 3"
    }
  },
  "cells": [
    {
      "cell_type": "markdown",
      "metadata": {
        "id": "view-in-github",
        "colab_type": "text"
      },
      "source": [
        "<a href=\"https://colab.research.google.com/github/siddeshas07/my-first-repository/blob/master/%23Backpropagation.ipynb\" target=\"_parent\"><img src=\"https://colab.research.google.com/assets/colab-badge.svg\" alt=\"Open In Colab\"/></a>"
      ]
    },
    {
      "cell_type": "code",
      "metadata": {
        "colab": {
          "base_uri": "https://localhost:8080/"
        },
        "id": "2TduRHfBT5jb",
        "outputId": "01d9e554-13d1-45c7-e328-8a097e763ac5"
      },
      "source": [
        "import numpy as np\n",
        "X = np.array(([2, 9], [1, 5], [3, 6]), dtype=float)\n",
        "y = np.array(([92], [86], [89]), dtype=float)\n",
        "X = X/np.amax(X,axis=0) # maximum of X array longitudinally y = y/100\n",
        "#Sigmoid Function\n",
        "def sigmoid (x):\n",
        " return (1/(1 + np.exp(-x)))\n",
        "#Derivative of Sigmoid Function\n",
        "def derivatives_sigmoid(x):\n",
        " return x * (1 - x)\n",
        "#Variable initialization\n",
        "epoch=7000 #Setting training iterations\n",
        "lr=0.1 #Setting learning rate\n",
        "inputlayer_neurons = 2 #number of features in data set\n",
        "hiddenlayer_neurons = 3 #number of hidden layers neurons\n",
        "output_neurons = 1\n",
        "#weight and bias initialization\n",
        "wh=np.random.uniform(size=(inputlayer_neurons,hiddenlayer_neurons))\n",
        "bh=np.random.uniform(size=(1,hiddenlayer_neurons))\n",
        "wout=np.random.uniform(size=(hiddenlayer_neurons,output_neurons))\n",
        "bout=np.random.uniform(size=(1,output_neurons))\n",
        "# draws a random range of numbers uniformly of dim x*y\n",
        "#Forward Propagation\n",
        "for i in range(epoch):\n",
        " hinp1=np.dot(X,wh)\n",
        " hinp=hinp1 + bh\n",
        " hlayer_act = sigmoid(hinp)\n",
        " outinp1=np.dot(hlayer_act,wout)\n",
        " outinp= outinp1+ bout\n",
        " output = sigmoid(outinp)\n",
        "#Backpropagation\n",
        " EO = y-output\n",
        " outgrad = derivatives_sigmoid(output)\n",
        " d_output = EO* outgrad\n",
        " EH = d_output.dot(wout.T)\n",
        " hiddengrad = derivatives_sigmoid(hlayer_act)\n",
        "#how much hidden layer wts contributed to error\n",
        " d_hiddenlayer = EH * hiddengrad\n",
        " wout += hlayer_act.T.dot(d_output) *lr\n",
        "# dotproduct of nextlayererror and currentlayerop\n",
        " bout += np.sum(d_output, axis=0,keepdims=True) *lr\n",
        " wh += X.T.dot(d_hiddenlayer) *lr\n",
        "#bh += np.sum(d_hiddenlayer, axis=0,keepdims=True) *lr\n",
        "print(\"Input: \\n\" + str(X))\n",
        "print(\"Actual Output: \\n\" + str(y))\n",
        "print(\"Predicted Output: \\n\" ,output)\n",
        "# Output:\n",
        "# Input:\n",
        "# [[ 0.66666667 1. ]\n",
        "# [ 0.33333333 0.55555556]"
      ],
      "execution_count": 2,
      "outputs": [
        {
          "output_type": "stream",
          "text": [
            "Input: \n",
            "[[0.66666667 1.        ]\n",
            " [0.33333333 0.55555556]\n",
            " [1.         0.66666667]]\n",
            "Actual Output: \n",
            "[[92.]\n",
            " [86.]\n",
            " [89.]]\n",
            "Predicted Output: \n",
            " [[0.99999908]\n",
            " [0.99999708]\n",
            " [0.99999901]]\n"
          ],
          "name": "stdout"
        }
      ]
    }
  ]
}